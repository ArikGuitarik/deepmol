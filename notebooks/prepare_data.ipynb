{
 "cells": [
  {
   "cell_type": "markdown",
   "metadata": {},
   "source": [
    "# Prepare Data\n",
    "Given an sdf-file with the QM9 molecules and a csv file with the respective labels,\n",
    "this notebook filters, shuffles and partitions the data.\n",
    "\n",
    "When the QM9 data set was created, a small part of the molecules did not retain their configuration during geometry optimization. A list of the IDs of these molecules is provided in uncharacterized-ids.txt and will be filtered out.\n",
    "\n",
    "Additionally, due to some [erroneously parsed bonds in the sdf file](https://github.com/deepchem/deepchem/issues/1122#issuecomment-402662114), some molecules could not be imported with rdkit. They are removed as well.\n"
   ]
  },
  {
   "cell_type": "code",
   "execution_count": 1,
   "metadata": {},
   "outputs": [
    {
     "name": "stdout",
     "output_type": "stream",
     "text": [
      "133656 molecules in total\n"
     ]
    },
    {
     "data": {
      "application/vnd.jupyter.widget-view+json": {
       "model_id": "c8b308597e004c3b84fc2c8beed3ce3d",
       "version_major": 2,
       "version_minor": 0
      },
      "text/plain": [
       "HBox(children=(IntProgress(value=0, max=133656), HTML(value='')))"
      ]
     },
     "metadata": {},
     "output_type": "display_data"
    },
    {
     "name": "stdout",
     "output_type": "stream",
     "text": [
      "\n",
      "removed 5078 mols\n"
     ]
    }
   ],
   "source": [
    "import rdkit.Chem as Chem\n",
    "import numpy as np\n",
    "import os\n",
    "from tqdm import tqdm_notebook as tqdm\n",
    "\n",
    "def filter_sdf(raw_path, filter_path, destination_path):\n",
    "    \"\"\"Remove from sdf file: the molecules with ids listed in file filter_path and molecules rdkit cannot import\"\"\"\n",
    "    with open(filter_path, 'r') as filter_file:\n",
    "        lines = filter_file.readlines()\n",
    "        ids_to_remove = [int(line) for line in lines]\n",
    "\n",
    "    mols = Chem.SDMolSupplier(raw_path, removeHs=False)  # import molecules from sdf file\n",
    "    num_mols = len(mols)\n",
    "    print(num_mols, 'molecules in total')\n",
    "    \n",
    "    num_accepted = 0\n",
    "    for i, mol in enumerate(tqdm(mols)):\n",
    "        gdb_id = int(mols.GetItemText(i).split()[1])\n",
    "        if gdb_id in ids_to_remove or mol is None:\n",
    "            continue\n",
    "        with open(destination_path, \"a\", newline='') as out_file:\n",
    "            out_file.write(mols.GetItemText(i))\n",
    "        num_accepted += 1\n",
    "    print('removed {} mols'.format(num_mols - num_accepted))\n",
    "    \n",
    "filter_sdf('mols.sdf', 'uncharacterized-ids.txt', 'mols_filtered.sdf')"
   ]
  },
  {
   "cell_type": "code",
   "execution_count": 2,
   "metadata": {},
   "outputs": [
    {
     "data": {
      "application/vnd.jupyter.widget-view+json": {
       "model_id": "e6e697cc4df04a6993e76f49e9de5799",
       "version_major": 2,
       "version_minor": 0
      },
      "text/plain": [
       "HBox(children=(IntProgress(value=0, max=108578), HTML(value='')))"
      ]
     },
     "metadata": {},
     "output_type": "display_data"
    },
    {
     "name": "stdout",
     "output_type": "stream",
     "text": [
      "\n"
     ]
    },
    {
     "data": {
      "application/vnd.jupyter.widget-view+json": {
       "model_id": "b0817c024ded467c9381fcbf1bbb56ee",
       "version_major": 2,
       "version_minor": 0
      },
      "text/plain": [
       "HBox(children=(IntProgress(value=0, max=10000), HTML(value='')))"
      ]
     },
     "metadata": {},
     "output_type": "display_data"
    },
    {
     "name": "stdout",
     "output_type": "stream",
     "text": [
      "\n"
     ]
    },
    {
     "data": {
      "application/vnd.jupyter.widget-view+json": {
       "model_id": "f137a674b54f4ab0acd7fd431b8ac68f",
       "version_major": 2,
       "version_minor": 0
      },
      "text/plain": [
       "HBox(children=(IntProgress(value=0, max=10000), HTML(value='')))"
      ]
     },
     "metadata": {},
     "output_type": "display_data"
    },
    {
     "name": "stdout",
     "output_type": "stream",
     "text": [
      "\n"
     ]
    }
   ],
   "source": [
    "# shuffle and partition\n",
    "def create_partitions(mol_path, val_size=10000, test_size=10000, shuffle=True):\n",
    "    mols = Chem.SDMolSupplier(mol_path, removeHs=False)  # import molecules from sdf file\n",
    "    num_mols = len(mols)\n",
    "    if shuffle:\n",
    "        perm = np.random.permutation(num_mols)\n",
    "    else:\n",
    "        perm = np.arange(num_mols)\n",
    "    \n",
    "    train_size = num_mols - val_size - test_size\n",
    "    assert train_size > 0 and val_size > 0 and test_size > 0\n",
    "    \n",
    "    train_indices = perm[:train_size]\n",
    "    val_indices = perm[train_size:train_size+val_size]\n",
    "    test_indices = perm[train_size+val_size:]\n",
    "    \n",
    "    out_dir = os.path.dirname(mol_path)\n",
    "    \n",
    "    with open(os.path.join(out_dir, 'training.sdf'), 'w', newline='') as f:\n",
    "        for i in tqdm(train_indices):\n",
    "            f.write(mols.GetItemText(int(i)))\n",
    "        \n",
    "    with open(os.path.join(out_dir, 'validation.sdf'), 'w', newline='') as f:\n",
    "        for i in tqdm(val_indices):\n",
    "            f.write(mols.GetItemText(int(i)))\n",
    "        \n",
    "    with open(os.path.join(out_dir, 'test.sdf'), 'w', newline='') as f:\n",
    "        for i in tqdm(test_indices):\n",
    "            f.write(mols.GetItemText(int(i)))\n",
    "\n",
    "create_partitions('mols_filtered.sdf')"
   ]
  },
  {
   "cell_type": "code",
   "execution_count": 3,
   "metadata": {},
   "outputs": [
    {
     "data": {
      "application/vnd.jupyter.widget-view+json": {
       "model_id": "e78a8adad70a446bba9b8e8b95f2412b",
       "version_major": 2,
       "version_minor": 0
      },
      "text/plain": [
       "HBox(children=(IntProgress(value=0, max=108578), HTML(value='')))"
      ]
     },
     "metadata": {},
     "output_type": "display_data"
    },
    {
     "name": "stdout",
     "output_type": "stream",
     "text": [
      "\n"
     ]
    },
    {
     "data": {
      "application/vnd.jupyter.widget-view+json": {
       "model_id": "fa45e18ca72e45d487397dfd4a7f6cae",
       "version_major": 2,
       "version_minor": 0
      },
      "text/plain": [
       "HBox(children=(IntProgress(value=0, max=10000), HTML(value='')))"
      ]
     },
     "metadata": {},
     "output_type": "display_data"
    },
    {
     "name": "stdout",
     "output_type": "stream",
     "text": [
      "\n"
     ]
    },
    {
     "data": {
      "application/vnd.jupyter.widget-view+json": {
       "model_id": "115af004981a43e8bc995afb711c211d",
       "version_major": 2,
       "version_minor": 0
      },
      "text/plain": [
       "HBox(children=(IntProgress(value=0, max=10000), HTML(value='')))"
      ]
     },
     "metadata": {},
     "output_type": "display_data"
    },
    {
     "name": "stdout",
     "output_type": "stream",
     "text": [
      "\n"
     ]
    }
   ],
   "source": [
    "# extract labels\n",
    "def write_labels_for_sdf(mol_path, label_path):    \n",
    "    with open(label_path, 'r') as label_file:\n",
    "        header = label_file.readline()\n",
    "        labels = label_file.readlines()\n",
    "    \n",
    "    destination_path = mol_path[:-4] + '_labels.csv'\n",
    "    with open(destination_path, \"w\", newline='') as out_file:\n",
    "        out_file.write(header)\n",
    "\n",
    "    mols = Chem.SDMolSupplier(mol_path, removeHs=False)  # import molecules from sdf file  \n",
    "    num_mols = len(mols)\n",
    "    for i in tqdm(range(num_mols)):\n",
    "        gdb_id = int(mols.GetItemText(i).split()[1])\n",
    "        with open(destination_path, \"a\", newline='') as out_file:\n",
    "            out_file.write(labels[gdb_id - 1])\n",
    "            \n",
    "write_labels_for_sdf('training.sdf', 'labels.csv')\n",
    "write_labels_for_sdf('validation.sdf', 'labels.csv')\n",
    "write_labels_for_sdf('test.sdf', 'labels.csv')"
   ]
  }
 ],
 "metadata": {
  "kernelspec": {
   "display_name": "Python 3",
   "language": "python",
   "name": "python3"
  },
  "language_info": {
   "codemirror_mode": {
    "name": "ipython",
    "version": 3
   },
   "file_extension": ".py",
   "mimetype": "text/x-python",
   "name": "python",
   "nbconvert_exporter": "python",
   "pygments_lexer": "ipython3",
   "version": "3.6.5"
  }
 },
 "nbformat": 4,
 "nbformat_minor": 2
}
