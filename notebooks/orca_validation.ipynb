{
 "cells": [
  {
   "cell_type": "markdown",
   "metadata": {},
   "source": [
    "# Evaluation of Generated Molecules\n",
    "To evaluate the generated molecules, a DFT-based geometry optimization is performed using orca.\n",
    "When training with implicit hydrogen, hydrogen atoms can be added using the software Avogadro.\n",
    "\n",
    "![Validation of generated molecules](../fig/orca_validation.png)\n",
    "\n",
    "## Creating ORCA Input Files\n",
    "The following cell creates an orca input file for all molecules given as .xyz files in the directory dft_dir."
   ]
  },
  {
   "cell_type": "code",
   "execution_count": 1,
   "metadata": {},
   "outputs": [],
   "source": [
    "import os\n",
    "\n",
    "\n",
    "def write_orca_input(xyz_path):\n",
    "    \"\"\"Write an orca input file for a molecule given as xyz file\"\"\"\n",
    "    with open(xyz_path, 'r') as f:\n",
    "        xyz_lines = f.readlines()\n",
    "\n",
    "    output = \"! PBE0 OPT def2-SVP \\n\"\n",
    "    output += \"*xyz 0 1\\n\"\n",
    "    output += ''.join(xyz_lines[2:])\n",
    "    output += \"*\\n\"\n",
    "\n",
    "    with open(xyz_path[:-3] + 'inp', 'w') as f:\n",
    "        f.write(output)\n",
    "\n",
    "\n",
    "dft_dir = 'sampled'\n",
    "xyz_files = [os.path.join(dft_dir, f) for f in os.listdir(dft_dir) if f.endswith('.xyz')]\n",
    "for xyz_file in xyz_files:\n",
    "    write_orca_input(xyz_file)"
   ]
  },
  {
   "cell_type": "markdown",
   "metadata": {},
   "source": [
    "## After the Optimization\n",
    "After the optimization, we check if it has converged and, if it has, convert the results back to an xyz file.\n",
    "For this, we need to put the log orca wrote to stdout as \\*.log and the files \\*_property.txt into the dft_dir."
   ]
  },
  {
   "cell_type": "code",
   "execution_count": 6,
   "metadata": {},
   "outputs": [],
   "source": [
    "def has_converged(log_file):\n",
    "    with open(log_file, 'r') as f:\n",
    "        log_content = ''.join(f.readlines())\n",
    "    return 'HURRAY' in log_content\n",
    "\n",
    "\n",
    "def prop_to_xyz(prop_file):\n",
    "    \"\"\"Read the last set of coordinates from the *_property.txt and return it in xyz format.\"\"\"\n",
    "    geometry = '!GEOMETRY!'\n",
    "    with open(prop_file, 'r') as f:\n",
    "        lines = f.readlines()\n",
    "        geom_i = None\n",
    "        for i in range(1,40):\n",
    "            if geometry in lines[-i]:\n",
    "                geom_i = -i\n",
    "            \n",
    "        atoms_line = lines[geom_i + 1]\n",
    "        atoms_line = \" \".join(atoms_line.split()) # remove duplicate whitespace\n",
    "        num_atoms = atoms_line.split(' ')[3]\n",
    "        \n",
    "        coordinate_lines = lines[geom_i + 3:]\n",
    "        coordinate_lines = [line.strip(' ') for line in coordinate_lines]\n",
    "        coordinates = ''.join(coordinate_lines)\n",
    "        xyz = num_atoms + '\\n\\n' + coordinates\n",
    "        return xyz\n",
    "    \n",
    "\n",
    "log_files = [os.path.join(dft_dir, f) for f in os.listdir(dft_dir) if f.endswith('.log')]\n",
    "\n",
    "for log in log_files:\n",
    "    mol_name = os.path.splitext(os.path.basename(log))[0]\n",
    "    if has_converged(log):\n",
    "        prop_file = os.path.join(dft_dir, mol_name + '_property.txt')\n",
    "        with open(os.path.join(dft_dir, mol_name+'_dft.xyz'), 'w') as f:\n",
    "            f.write(prop_to_xyz(prop_file))"
   ]
  },
  {
   "cell_type": "markdown",
   "metadata": {},
   "source": [
    "Finally, we can evaluate the deviation in atom positions between the generated and relaxed geometry."
   ]
  },
  {
   "cell_type": "code",
   "execution_count": 19,
   "metadata": {},
   "outputs": [
    {
     "name": "stdout",
     "output_type": "stream",
     "text": [
      "MAE: 0.30 +- 0.12\n",
      "RMSE: 0.36\n"
     ]
    }
   ],
   "source": [
    "import openbabel\n",
    "import pybel\n",
    "import numpy as np\n",
    "\n",
    "\n",
    "def align_mols(ref, to_be_aligned):\n",
    "    align = openbabel.OBAlign(False, False)\n",
    "    align.SetRefMol(ref)\n",
    "    align.SetTargetMol(to_be_aligned)\n",
    "    align.Align()\n",
    "    align.UpdateCoords(to_be_aligned)\n",
    "\n",
    "\n",
    "def mse_mae(pybel_mol_1, pybel_mol_2):\n",
    "    mse, mae, num_atoms = 0, 0, 0\n",
    "    for atom_1, atom_2 in zip(pybel_mol_1.atoms, pybel_mol_2.atoms):\n",
    "        x1, y1, z1 = atom_1.coords\n",
    "        x2, y2, z2 = atom_2.coords\n",
    "        squared_dist = (x1 - x2) ** 2 + (y1 - y2) ** 2 + (z1 - z2) ** 2\n",
    "        mse += squared_dist\n",
    "        mae += np.sqrt(squared_dist)\n",
    "        num_atoms += 1\n",
    "\n",
    "    return mse / num_atoms, mae / num_atoms\n",
    "\n",
    "\n",
    "def eval_position_errors(xyz_1, xyz_2):\n",
    "    py_mol_1 = pybel.readstring('xyz', xyz_1)\n",
    "    py_mol_2 = pybel.readstring('xyz', xyz_2)\n",
    "    \n",
    "    py_mol_1.removeh()\n",
    "    py_mol_2.removeh()\n",
    "    align_mols(py_mol_1.OBMol, py_mol_2.OBMol)\n",
    "\n",
    "    mse, mae = mse_mae(py_mol_1, py_mol_2)\n",
    "    return mse, mae\n",
    "\n",
    "\n",
    "dft_files = [os.path.join(dft_dir, f) for f in os.listdir(dft_dir) if f.endswith('dft.xyz')]\n",
    "mses, maes = {}, {}\n",
    "\n",
    "for dft in dft_files:\n",
    "    mol_name = os.path.splitext(os.path.basename(dft))[0].split('_')[0]\n",
    "    orig = os.path.join(dft_dir, mol_name + '.xyz')\n",
    "    \n",
    "    with open(dft, 'r') as f:\n",
    "        xyz_dft = ''.join(f.readlines())\n",
    "    with open(orig, 'r') as f:\n",
    "        xyz_orig = ''.join(f.readlines())\n",
    "    mse, mae = eval_position_errors(xyz_dft, xyz_orig)\n",
    "    mses[mol_name] = mse\n",
    "    maes[mol_name] = mae\n",
    "    \n",
    "    \n",
    "maes_list = list(maes.values())\n",
    "mses_list = list(mses.values())\n",
    "mae_mean, mae_std = np.mean(maes_list), np.std(maes_list)\n",
    "print('MAE: {:0.2f} +- {:0.2f}'.format(mae_mean, mae_std))\n",
    "print('RMSE: {:0.2f}'.format(np.sqrt(np.mean(mses_list))))\n"
   ]
  }
 ],
 "metadata": {
  "kernelspec": {
   "display_name": "Python 3",
   "language": "python",
   "name": "python3"
  },
  "language_info": {
   "codemirror_mode": {
    "name": "ipython",
    "version": 3
   },
   "file_extension": ".py",
   "mimetype": "text/x-python",
   "name": "python",
   "nbconvert_exporter": "python",
   "pygments_lexer": "ipython3",
   "version": "3.6.5"
  }
 },
 "nbformat": 4,
 "nbformat_minor": 2
}
